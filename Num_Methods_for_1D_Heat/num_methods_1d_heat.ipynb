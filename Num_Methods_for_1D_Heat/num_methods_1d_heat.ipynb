{
 "cells": [
  {
   "cell_type": "code",
   "execution_count": 294,
   "metadata": {},
   "outputs": [],
   "source": [
    "import numpy as np\n",
    "import matplotlib.pyplot as plt"
   ]
  },
  {
   "cell_type": "code",
   "execution_count": 295,
   "metadata": {},
   "outputs": [],
   "source": [
    "def f(x):\n",
    "    return 1"
   ]
  },
  {
   "cell_type": "markdown",
   "metadata": {},
   "source": [
    "## Simple Iteration Method"
   ]
  },
  {
   "cell_type": "code",
   "execution_count": 296,
   "metadata": {},
   "outputs": [],
   "source": [
    "a = 1 \n",
    "dx = 0.02\n",
    "dt = 0.0001\n",
    "x_list = np.arange(0, 1+dx, dx)\n",
    "if ((a*dt)/dx**2) <= 0.5:\n",
    "    n = 0\n",
    "    T = np.array([np.zeros(len(x_list))])\n",
    "    for i in range(len(x_list)):\n",
    "        T[n][i] = f(x_list[i]) #initial condition\n",
    "    T[n][0] = 0 #left boundary condition\n",
    "    T[n][-1] = 0 #right boundary condition\n",
    "    \n",
    "    e = 10**6\n",
    "    while e > 10**(-4):\n",
    "        T = np.append(T, [np.zeros(len(x_list))], axis=0)\n",
    "        for i in range(1, len(x_list)-1):\n",
    "            T[n+1][i] = T[n][i] + (((a*dt)/(dx**2)) * (T[n][i+1]-2*T[n][i]+T[n][i-1]))\n",
    "        T[n+1][0] = 0\n",
    "        T[n+1][-1] = 0\n",
    "        e = max([abs(T[n+1][i] - T[n][i]) for i in range(len(x_list))]) #stopping criterion\n",
    "        n += 1 \n",
    "else:    \n",
    "    print(\"Not stable conditions.\")"
   ]
  },
  {
   "cell_type": "code",
   "execution_count": 297,
   "metadata": {},
   "outputs": [
    {
     "name": "stdout",
     "output_type": "stream",
     "text": [
      "Number of iterations for simple iteration method: 2565\n"
     ]
    },
    {
     "data": {
      "text/plain": [
       "[<matplotlib.lines.Line2D at 0x269365f7cc0>]"
      ]
     },
     "execution_count": 297,
     "metadata": {},
     "output_type": "execute_result"
    },
    {
     "data": {
      "image/png": "[encoded data removed]",
      "text/plain": [
       "<Figure size 432x288 with 1 Axes>"
      ]
     },
     "metadata": {
      "needs_background": "light"
     },
     "output_type": "display_data"
    }
   ],
   "source": [
    "print(f'Number of iterations for simple iteration method: {n}')\n",
    "fig, ax = plt.subplots()\n",
    "ax.contourf(T)\n",
    "fig.set_figwidth(8)\n",
    "fig.set_figheight(5)\n",
    "plt.show()"
   ]
  },
  {
   "cell_type": "markdown",
   "metadata": {},
   "source": [
    "## Implicit method"
   ]
  },
  {
   "cell_type": "code",
   "execution_count": 270,
   "metadata": {},
   "outputs": [],
   "source": [
    "a = 1 \n",
    "dx = 0.02\n",
    "dt = 0.0001\n",
    "x_list = np.arange(0, 1+dx, dx)\n",
    "length = len(x_list)\n",
    "\n",
    "A = -a/dx**2\n",
    "B = (1/dt) + ((2*a)/dx**2)\n",
    "C = -a/dx**2\n",
    "\n",
    "n = 0\n",
    "T = np.array([np.zeros(length)])\n",
    "for i in range(length):\n",
    "    T[n][i] = f(x_list[i])\n",
    "    \n",
    "e = 10**6\n",
    "while e > 10**(-4):\n",
    "\n",
    "    alpha = np.zeros(length)\n",
    "    alpha[1] = 0\n",
    "    beta = np.zeros(length)\n",
    "    beta[1] = 0\n",
    "\n",
    "    T = np.append(T, [np.zeros(length)], axis=0)\n",
    "\n",
    "    for i in range(1, length-1):\n",
    "        alpha[i+1] = -A/(B+(C*alpha[i]))\n",
    "        beta[i+1] = (T[n][i]/dt - C*beta[i])/(B+(C*alpha[i]))\n",
    "\n",
    "    T[n+1][-1] = 0\n",
    "\n",
    "    for i in range(length-2, -1, -1):\n",
    "        T[n+1][i] = alpha[i+1]*T[n+1][i+1] + beta[i+1]\n",
    "\n",
    "    e = max([abs(T[n+1][i] - T[n][i]) for i in range(length)])\n",
    "    n += 1 "
   ]
  },
  {
   "cell_type": "code",
   "execution_count": 271,
   "metadata": {},
   "outputs": [
    {
     "name": "stdout",
     "output_type": "stream",
     "text": [
      "Number of iterations for implicit method: 2566\n"
     ]
    },
    {
     "data": {
      "image/png": "[encoded data removed]",
      "text/plain": [
       "<Figure size 576x360 with 1 Axes>"
      ]
     },
     "metadata": {
      "needs_background": "light"
     },
     "output_type": "display_data"
    }
   ],
   "source": [
    "print(f'Number of iterations for implicit method: {n}')\n",
    "fig, ax = plt.subplots()\n",
    "ax.contourf(T)\n",
    "fig.set_figwidth(8)\n",
    "fig.set_figheight(5)\n",
    "plt.show()"
   ]
  },
  {
   "cell_type": "markdown",
   "metadata": {},
   "source": [
    "## Crank-Nicolson method"
   ]
  },
  {
   "cell_type": "code",
   "execution_count": 283,
   "metadata": {},
   "outputs": [],
   "source": [
    "a = 1 \n",
    "dx = 0.02\n",
    "dt = 0.0001\n",
    "x_list = np.arange(0, 1+dx, dx)\n",
    "length = len(x_list)\n",
    "\n",
    "A = -a/(2*dx**2)\n",
    "B = (1/dt) + (a/dx**2)\n",
    "C = -a/(2*dx**2)\n",
    "\n",
    "n = 0\n",
    "T = np.array([np.zeros(length)])\n",
    "for i in range(length):\n",
    "    T[n][i] = f(x_list[i])\n",
    "    \n",
    "e = 10**6\n",
    "while e > 10**(-4):\n",
    "\n",
    "    alpha = np.zeros(length)\n",
    "    alpha[1] = 0\n",
    "    beta = np.zeros(length)\n",
    "    beta[1] = 0\n",
    "\n",
    "    T = np.append(T, [np.zeros(length)], axis=0)\n",
    "\n",
    "    for i in range(1, length-1):\n",
    "        D = (T[n][i]/dt) + (a/(2*dx**2))*(T[n][i+1]-2*T[n][i]+T[n][i-1])\n",
    "        alpha[i+1] = -A/(B+(C*alpha[i]))\n",
    "        beta[i+1] = (D - C*beta[i])/(B+(C*alpha[i]))\n",
    "\n",
    "    T[n+1][-1] = 0\n",
    "\n",
    "    for i in range(length-2, -1, -1):\n",
    "        T[n+1][i] = alpha[i+1]*T[n+1][i+1] + beta[i+1]\n",
    "\n",
    "    e = max([abs(T[n+1][i] - T[n][i]) for i in range(length)])\n",
    "    n += 1 "
   ]
  },
  {
   "cell_type": "code",
   "execution_count": 284,
   "metadata": {},
   "outputs": [
    {
     "name": "stdout",
     "output_type": "stream",
     "text": [
      "Number of iterations for Crank-Nicolson method: 2566\n"
     ]
    },
    {
     "data": {
      "image/png": "[encoded data removed]",
      "text/plain": [
       "<Figure size 576x360 with 1 Axes>"
      ]
     },
     "metadata": {
      "needs_background": "light"
     },
     "output_type": "display_data"
    }
   ],
   "source": [
    "print(f'Number of iterations for Crank-Nicolson method: {n}')\n",
    "fig, ax = plt.subplots()\n",
    "ax.contourf(T)\n",
    "fig.set_figwidth(8)\n",
    "fig.set_figheight(5)\n",
    "plt.show()"
   ]
  },
  {
   "cell_type": "markdown",
   "metadata": {},
   "source": [
    "## Combined method B"
   ]
  },
  {
   "cell_type": "code",
   "execution_count": 287,
   "metadata": {},
   "outputs": [],
   "source": [
    "a = 1 \n",
    "dx = 0.02\n",
    "dt = 0.0001\n",
    "x_list = np.arange(0, 1+dx, dx)\n",
    "length = len(x_list)\n",
    "\n",
    "n = 0\n",
    "T = np.array([np.zeros(length)])\n",
    "for i in range(length):\n",
    "    T[n][i] = f(x_list[i])\n",
    "\n",
    "T[n][0] = 0\n",
    "T[n][-1] = 0\n",
    "\n",
    "# This scheme needs to have 2 time step to start. \n",
    "# Therefore I use the Simple Iteration Method to get the first time step. \n",
    "    \n",
    "T = np.append(T, [np.zeros(len(x_list))], axis=0)\n",
    "for i in range(1, len(x_list)-1):\n",
    "    T[n+1][i] = T[n][i] + (((a*dt)/(dx**2)) * (T[n][i+1]-2*T[n][i]+T[n][i-1]))\n",
    "T[n+1][0] = 0\n",
    "T[n+1][-1] = 0\n",
    "\n",
    "n += 1"
   ]
  },
  {
   "cell_type": "code",
   "execution_count": 288,
   "metadata": {},
   "outputs": [],
   "source": [
    "# Thomas algorithm\n",
    "\n",
    "A = -a/(dx**2)\n",
    "B = (3/(2*dt)) + ((2*a)/dx**2)\n",
    "C = -a/(dx**2)\n",
    "\n",
    "e = 10**6\n",
    "while e > 10**(-4):\n",
    "\n",
    "    alpha = np.zeros(length)\n",
    "    alpha[1] = 0\n",
    "    beta = np.zeros(length)\n",
    "    beta[1] = 0\n",
    "\n",
    "    T = np.append(T, [np.zeros(length)], axis=0)\n",
    "\n",
    "    for i in range(1, length-1):\n",
    "        D = (2*T[n][i]/dt) - (T[n-1][i]/(2*dt))\n",
    "        alpha[i+1] = -A/(B+(C*alpha[i]))\n",
    "        beta[i+1] = (D - C*beta[i])/(B+(C*alpha[i]))\n",
    "\n",
    "    T[n+1][-1] = 0\n",
    "\n",
    "    for i in range(length-2, -1, -1):\n",
    "        T[n+1][i] = alpha[i+1]*T[n+1][i+1] + beta[i+1]\n",
    "\n",
    "    e = max([abs(T[n+1][i] - T[n][i]) for i in range(length)])\n",
    "    n += 1 "
   ]
  },
  {
   "cell_type": "code",
   "execution_count": 289,
   "metadata": {},
   "outputs": [
    {
     "name": "stdout",
     "output_type": "stream",
     "text": [
      "Number of iterations for Combined Method B: 2566\n"
     ]
    },
    {
     "data": {
      "image/png": "[encoded data removed]",
      "text/plain": [
       "<Figure size 576x360 with 1 Axes>"
      ]
     },
     "metadata": {
      "needs_background": "light"
     },
     "output_type": "display_data"
    }
   ],
   "source": [
    "print(f'Number of iterations for Combined Method B: {n}')\n",
    "fig, ax = plt.subplots()\n",
    "ax.contourf(T)\n",
    "fig.set_figwidth(8)\n",
    "fig.set_figheight(5)\n",
    "plt.show()"
   ]
  },
  {
   "cell_type": "markdown",
   "metadata": {},
   "source": [
    "## Dufort-Frankel"
   ]
  },
  {
   "cell_type": "code",
   "execution_count": 292,
   "metadata": {},
   "outputs": [],
   "source": [
    "a = 1 \n",
    "dx = 0.02\n",
    "dt = 0.0001\n",
    "x_list = np.arange(0, 1+dx, dx)\n",
    "length = len(x_list)\n",
    "\n",
    "n = 0\n",
    "T = np.array([np.zeros(length)])\n",
    "for i in range(length):\n",
    "    T[n][i] = f(x_list[i])\n",
    "\n",
    "T[n][0] = 0\n",
    "T[n][-1] = 0\n",
    "\n",
    "# This scheme needs to have 2 time step to start. \n",
    "# Therefore I use the Simple Iteration Method to get the first time step. \n",
    "    \n",
    "T = np.append(T, [np.zeros(len(x_list))], axis=0)\n",
    "for i in range(1, len(x_list)-1):\n",
    "    T[n+1][i] = T[n][i] + (((a*dt)/(dx**2)) * (T[n][i+1]-2*T[n][i]+T[n][i-1]))\n",
    "T[n+1][0] = 0\n",
    "T[n+1][-1] = 0\n",
    "\n",
    "n += 1\n",
    "\n",
    "e = 10**6\n",
    "while e > 10**(-4):\n",
    "    \n",
    "    T = np.append(T, [np.zeros(length)], axis=0)\n",
    "\n",
    "    for i in range(1, len(x_list)-1):\n",
    "        T[n+1][i] = ((T[n-1][i]/(2*dt)) + ((a/(dx**2)) * (T[n][i+1]-T[n-1][i]+T[n][i-1]))) / ((1/(2*dt))+(a/dx**2))\n",
    "        \n",
    "    T[n+1][0] = 0\n",
    "    T[n+1][-1] = 0\n",
    "    e = max([abs(T[n+1][i] - T[n][i]) for i in range(len(x_list))])\n",
    "    n += 1 "
   ]
  },
  {
   "cell_type": "code",
   "execution_count": 293,
   "metadata": {},
   "outputs": [
    {
     "name": "stdout",
     "output_type": "stream",
     "text": [
      "Number of iterations for Dufort-Frankel Method: 2974\n"
     ]
    },
    {
     "data": {
      "image/png": "[encoded data removed]",
      "text/plain": [
       "<Figure size 576x360 with 1 Axes>"
      ]
     },
     "metadata": {
      "needs_background": "light"
     },
     "output_type": "display_data"
    }
   ],
   "source": [
    "print(f'Number of iterations for Dufort-Frankel Method: {n}')\n",
    "fig, ax = plt.subplots()\n",
    "ax.contourf(T)\n",
    "fig.set_figwidth(8)\n",
    "fig.set_figheight(5)\n",
    "plt.show()"
   ]
  },
  {
   "cell_type": "code",
   "execution_count": null,
   "metadata": {},
   "outputs": [],
   "source": []
  }
 ],
 "metadata": {
  "kernelspec": {
   "display_name": "Python 3",
   "language": "python",
   "name": "python3"
  },
  "language_info": {
   "codemirror_mode": {
    "name": "ipython",
    "version": 3
   },
   "file_extension": ".py",
   "mimetype": "text/x-python",
   "name": "python",
   "nbconvert_exporter": "python",
   "pygments_lexer": "ipython3",
   "version": "3.7.3"
  }
 },
 "nbformat": 4,
 "nbformat_minor": 2
}
